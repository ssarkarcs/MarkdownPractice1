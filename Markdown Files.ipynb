{
 "cells": [
  {
   "cell_type": "markdown",
   "id": "693c2fbb",
   "metadata": {},
   "source": [
    "# Title Header"
   ]
  },
  {
   "cell_type": "markdown",
   "id": "50d7038b",
   "metadata": {},
   "source": [
    "## Header 2 for major headings"
   ]
  },
  {
   "cell_type": "markdown",
   "id": "5d1a74b1",
   "metadata": {},
   "source": [
    "### Header 3 for subheading"
   ]
  },
  {
   "cell_type": "markdown",
   "id": "b5510696",
   "metadata": {},
   "source": [
    "#### Blockquotes\n",
    "> This is a good day"
   ]
  },
  {
   "cell_type": "markdown",
   "id": "3bb0424f",
   "metadata": {},
   "source": [
    "#### Lists\n",
    "* This is bullet list 1\n",
    "* This is bullet list 2"
   ]
  },
  {
   "cell_type": "markdown",
   "id": "fb2e99c0",
   "metadata": {},
   "source": [
    "#### Ordered lists\n",
    "1. This is order1\n",
    "2. This is order2"
   ]
  },
  {
   "cell_type": "markdown",
   "id": "2b4036e3",
   "metadata": {},
   "source": [
    "#### Bold\n",
    "**This is a bold word**"
   ]
  },
  {
   "cell_type": "markdown",
   "id": "bdb8e00b",
   "metadata": {},
   "source": [
    "#### Italic\n",
    "*These are italicized word*"
   ]
  },
  {
   "cell_type": "markdown",
   "id": "2cb38f27",
   "metadata": {},
   "source": [
    "#### Highlight code\n",
    "This code is `Highlighted`"
   ]
  },
  {
   "cell_type": "markdown",
   "id": "68615ab3",
   "metadata": {},
   "source": [
    "#### Hyperlinks\n",
    "<a href=\"https://www.google.com/\">this link is for google.com</a>"
   ]
  },
  {
   "cell_type": "markdown",
   "id": "776d0cad",
   "metadata": {},
   "source": [
    "#### Render image\n",
    "![Python Logo](https://th.bing.com/th/id/OIP.EDJ9xoErBbZqK2tExVoJfAHaHY?w=175&h=180&c=7&r=0&o=5&pid=1.7)"
   ]
  },
  {
   "cell_type": "code",
   "execution_count": null,
   "id": "eec79b8d",
   "metadata": {},
   "outputs": [],
   "source": []
  }
 ],
 "metadata": {
  "kernelspec": {
   "display_name": "Python 3",
   "language": "python",
   "name": "python3"
  },
  "language_info": {
   "codemirror_mode": {
    "name": "ipython",
    "version": 3
   },
   "file_extension": ".py",
   "mimetype": "text/x-python",
   "name": "python",
   "nbconvert_exporter": "python",
   "pygments_lexer": "ipython3",
   "version": "3.8.8"
  }
 },
 "nbformat": 4,
 "nbformat_minor": 5
}
